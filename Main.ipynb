{
 "cells": [
  {
   "cell_type": "raw",
   "metadata": {},
   "source": [
    "from flask import Flask, render_template   "
   ]
  },
  {
   "cell_type": "markdown",
   "metadata": {},
   "source": [
    "## Steps to be done:\n",
    " - Create html files under templates folder\n",
    " - Create CSS file under static folder "
   ]
  },
  {
   "cell_type": "raw",
   "metadata": {},
   "source": [
    "app = Flask(__name__)        # this current file (web application)\n",
    "\n",
    "@app.route(\"/\")              # default page\n",
    "def home():\n",
    "    return render_template(\"home.html\")\n",
    "\n",
    "@app.route(\"/about\")\n",
    "def about():\n",
    "    return render_template(\"about.html\")\n",
    "\n",
    "if __name__ == \"__main__\":   # assign when script executed \n",
    "    app.run(threaded=True)   # error on webpage"
   ]
  },
  {
   "cell_type": "markdown",
   "metadata": {},
   "source": [
    "# WeatherApp"
   ]
  },
  {
   "cell_type": "code",
   "execution_count": 1,
   "metadata": {},
   "outputs": [],
   "source": [
    "#!/usr/bin/env python\n",
    "from pprint import pprint as pp     # pretty-print\n",
    "from flask import Flask, flash, redirect, render_template, request, url_for\n",
    "from weather import query_api"
   ]
  },
  {
   "cell_type": "code",
   "execution_count": null,
   "metadata": {
    "scrolled": true
   },
   "outputs": [
    {
     "name": "stdout",
     "output_type": "stream",
     "text": [
      " * Serving Flask app \"__main__\" (lazy loading)\n",
      " * Environment: production\n",
      "   WARNING: Do not use the development server in a production environment.\n",
      "   Use a production WSGI server instead.\n",
      " * Debug mode: off\n"
     ]
    },
    {
     "name": "stderr",
     "output_type": "stream",
     "text": [
      " * Running on http://127.0.0.1:5000/ (Press CTRL+C to quit)\n",
      "127.0.0.1 - - [21/May/2019 22:50:53] \"GET / HTTP/1.1\" 200 -\n",
      "127.0.0.1 - - [21/May/2019 22:50:53] \"GET /static/style.css HTTP/1.1\" 200 -\n"
     ]
    }
   ],
   "source": [
    "app = Flask(__name__)\n",
    "@app.route('/')\n",
    "def index():\n",
    "    return render_template(\n",
    "        'weather.html',\n",
    "        data=[{'name':'Toronto'}, {'name':'Montreal'}, {'name':'Calgary'},\n",
    "        {'name':'Ottawa'}, {'name':'Edmonton'}, {'name':'Mississauga'},\n",
    "        {'name':'Winnipeg'}, {'name':'Vancouver'}, {'name':'Brampton'}, \n",
    "        {'name':'Quebec'}])\n",
    "\n",
    "@app.route(\"/result\" , methods=['GET', 'POST'])\n",
    "def result():\n",
    "    data = []\n",
    "    error = None\n",
    "    select = request.form.get('comp_select')\n",
    "    resp = query_api(select)\n",
    "    pp(resp)\n",
    "    if resp:\n",
    "       data.append(resp)\n",
    "    if len(data) != 2:\n",
    "        error = 'Bad Response from Weather API'\n",
    "    return render_template(\n",
    "        'result.html',\n",
    "        data=data,\n",
    "        error=error)\n",
    "if __name__=='__main__':\n",
    "    app.run(threaded=True)"
   ]
  },
  {
   "cell_type": "code",
   "execution_count": null,
   "metadata": {},
   "outputs": [],
   "source": []
  }
 ],
 "metadata": {
  "kernelspec": {
   "display_name": "Python 3",
   "language": "python",
   "name": "python3"
  },
  "language_info": {
   "codemirror_mode": {
    "name": "ipython",
    "version": 3
   },
   "file_extension": ".py",
   "mimetype": "text/x-python",
   "name": "python",
   "nbconvert_exporter": "python",
   "pygments_lexer": "ipython3",
   "version": "3.7.1"
  }
 },
 "nbformat": 4,
 "nbformat_minor": 2
}
